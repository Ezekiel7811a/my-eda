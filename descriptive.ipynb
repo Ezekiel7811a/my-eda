{
 "cells": [
  {
   "cell_type": "code",
   "execution_count": 20,
   "metadata": {},
   "outputs": [],
   "source": [
    "import pandas as pd\n",
    "import numpy as np\n",
    "import matplotlib.pyplot as plt\n",
    "import scipy.stats as stats\n",
    "from statsmodels.stats.anova import AnovaRM"
   ]
  },
  {
   "cell_type": "code",
   "execution_count": 2,
   "metadata": {},
   "outputs": [],
   "source": [
    "df = pd.read_csv('water-training.csv')"
   ]
  },
  {
   "cell_type": "code",
   "execution_count": 6,
   "metadata": {},
   "outputs": [
    {
     "data": {
      "text/html": [
       "<div>\n",
       "<style scoped>\n",
       "    .dataframe tbody tr th:only-of-type {\n",
       "        vertical-align: middle;\n",
       "    }\n",
       "\n",
       "    .dataframe tbody tr th {\n",
       "        vertical-align: top;\n",
       "    }\n",
       "\n",
       "    .dataframe thead th {\n",
       "        text-align: right;\n",
       "    }\n",
       "</style>\n",
       "<table border=\"1\" class=\"dataframe\">\n",
       "  <thead>\n",
       "    <tr style=\"text-align: right;\">\n",
       "      <th></th>\n",
       "      <th>Site_Id</th>\n",
       "      <th>Unit_Id</th>\n",
       "      <th>Read_Date</th>\n",
       "      <th>Salinity (ppt)</th>\n",
       "      <th>Dissolved Oxygen (mg/L)</th>\n",
       "      <th>pH (standard units)</th>\n",
       "      <th>Secchi Depth (m)</th>\n",
       "      <th>Water Depth (m)</th>\n",
       "      <th>Water Temp (?C)</th>\n",
       "      <th>Air Temp-Celsius</th>\n",
       "      <th>Air Temp (?F)</th>\n",
       "      <th>Time (24:00)</th>\n",
       "      <th>Field_Tech</th>\n",
       "      <th>DateVerified</th>\n",
       "      <th>WhoVerified</th>\n",
       "      <th>AirTemp (C)</th>\n",
       "      <th>Year</th>\n",
       "    </tr>\n",
       "  </thead>\n",
       "  <tbody>\n",
       "    <tr>\n",
       "      <th>count</th>\n",
       "      <td>2370</td>\n",
       "      <td>32</td>\n",
       "      <td>2366</td>\n",
       "      <td>2241.000000</td>\n",
       "      <td>1520.000000</td>\n",
       "      <td>2276.000000</td>\n",
       "      <td>2298.000000</td>\n",
       "      <td>2300.000000</td>\n",
       "      <td>2250.000000</td>\n",
       "      <td>85.000000</td>\n",
       "      <td>2300.000000</td>\n",
       "      <td>2308</td>\n",
       "      <td>2332</td>\n",
       "      <td>453</td>\n",
       "      <td>453</td>\n",
       "      <td>2371.000000</td>\n",
       "      <td>2371.000000</td>\n",
       "    </tr>\n",
       "    <tr>\n",
       "      <th>unique</th>\n",
       "      <td>6</td>\n",
       "      <td>2</td>\n",
       "      <td>801</td>\n",
       "      <td>NaN</td>\n",
       "      <td>NaN</td>\n",
       "      <td>NaN</td>\n",
       "      <td>NaN</td>\n",
       "      <td>NaN</td>\n",
       "      <td>NaN</td>\n",
       "      <td>NaN</td>\n",
       "      <td>NaN</td>\n",
       "      <td>99</td>\n",
       "      <td>14</td>\n",
       "      <td>44</td>\n",
       "      <td>12</td>\n",
       "      <td>NaN</td>\n",
       "      <td>NaN</td>\n",
       "    </tr>\n",
       "    <tr>\n",
       "      <th>top</th>\n",
       "      <td>Bay</td>\n",
       "      <td>01csv</td>\n",
       "      <td>4/4/2017</td>\n",
       "      <td>NaN</td>\n",
       "      <td>NaN</td>\n",
       "      <td>NaN</td>\n",
       "      <td>NaN</td>\n",
       "      <td>NaN</td>\n",
       "      <td>NaN</td>\n",
       "      <td>NaN</td>\n",
       "      <td>NaN</td>\n",
       "      <td>0:00</td>\n",
       "      <td>Not Recorded</td>\n",
       "      <td>10/30/2019</td>\n",
       "      <td>Christine Folks</td>\n",
       "      <td>NaN</td>\n",
       "      <td>NaN</td>\n",
       "    </tr>\n",
       "    <tr>\n",
       "      <th>freq</th>\n",
       "      <td>794</td>\n",
       "      <td>28</td>\n",
       "      <td>6</td>\n",
       "      <td>NaN</td>\n",
       "      <td>NaN</td>\n",
       "      <td>NaN</td>\n",
       "      <td>NaN</td>\n",
       "      <td>NaN</td>\n",
       "      <td>NaN</td>\n",
       "      <td>NaN</td>\n",
       "      <td>NaN</td>\n",
       "      <td>1440</td>\n",
       "      <td>1225</td>\n",
       "      <td>60</td>\n",
       "      <td>171</td>\n",
       "      <td>NaN</td>\n",
       "      <td>NaN</td>\n",
       "    </tr>\n",
       "    <tr>\n",
       "      <th>mean</th>\n",
       "      <td>NaN</td>\n",
       "      <td>NaN</td>\n",
       "      <td>NaN</td>\n",
       "      <td>0.717068</td>\n",
       "      <td>6.646263</td>\n",
       "      <td>7.168212</td>\n",
       "      <td>0.524898</td>\n",
       "      <td>0.762559</td>\n",
       "      <td>18.062138</td>\n",
       "      <td>16.437647</td>\n",
       "      <td>62.051637</td>\n",
       "      <td>NaN</td>\n",
       "      <td>NaN</td>\n",
       "      <td>NaN</td>\n",
       "      <td>NaN</td>\n",
       "      <td>15.663050</td>\n",
       "      <td>2006.049346</td>\n",
       "    </tr>\n",
       "    <tr>\n",
       "      <th>std</th>\n",
       "      <td>NaN</td>\n",
       "      <td>NaN</td>\n",
       "      <td>NaN</td>\n",
       "      <td>1.230819</td>\n",
       "      <td>2.506608</td>\n",
       "      <td>0.788485</td>\n",
       "      <td>0.473663</td>\n",
       "      <td>0.621140</td>\n",
       "      <td>8.298246</td>\n",
       "      <td>11.754138</td>\n",
       "      <td>15.492236</td>\n",
       "      <td>NaN</td>\n",
       "      <td>NaN</td>\n",
       "      <td>NaN</td>\n",
       "      <td>NaN</td>\n",
       "      <td>10.314720</td>\n",
       "      <td>9.002373</td>\n",
       "    </tr>\n",
       "    <tr>\n",
       "      <th>min</th>\n",
       "      <td>NaN</td>\n",
       "      <td>NaN</td>\n",
       "      <td>NaN</td>\n",
       "      <td>0.000000</td>\n",
       "      <td>0.000000</td>\n",
       "      <td>0.300000</td>\n",
       "      <td>0.000000</td>\n",
       "      <td>0.010000</td>\n",
       "      <td>0.000000</td>\n",
       "      <td>0.000000</td>\n",
       "      <td>10.500000</td>\n",
       "      <td>NaN</td>\n",
       "      <td>NaN</td>\n",
       "      <td>NaN</td>\n",
       "      <td>NaN</td>\n",
       "      <td>-17.777778</td>\n",
       "      <td>1899.000000</td>\n",
       "    </tr>\n",
       "    <tr>\n",
       "      <th>25%</th>\n",
       "      <td>NaN</td>\n",
       "      <td>NaN</td>\n",
       "      <td>NaN</td>\n",
       "      <td>0.000000</td>\n",
       "      <td>4.800000</td>\n",
       "      <td>6.500000</td>\n",
       "      <td>0.300000</td>\n",
       "      <td>0.400000</td>\n",
       "      <td>11.000000</td>\n",
       "      <td>9.000000</td>\n",
       "      <td>49.000000</td>\n",
       "      <td>NaN</td>\n",
       "      <td>NaN</td>\n",
       "      <td>NaN</td>\n",
       "      <td>NaN</td>\n",
       "      <td>8.888889</td>\n",
       "      <td>2001.000000</td>\n",
       "    </tr>\n",
       "    <tr>\n",
       "      <th>50%</th>\n",
       "      <td>NaN</td>\n",
       "      <td>NaN</td>\n",
       "      <td>NaN</td>\n",
       "      <td>0.000000</td>\n",
       "      <td>6.500000</td>\n",
       "      <td>7.000000</td>\n",
       "      <td>0.400000</td>\n",
       "      <td>0.650000</td>\n",
       "      <td>19.000000</td>\n",
       "      <td>15.000000</td>\n",
       "      <td>63.000000</td>\n",
       "      <td>NaN</td>\n",
       "      <td>NaN</td>\n",
       "      <td>NaN</td>\n",
       "      <td>NaN</td>\n",
       "      <td>16.666667</td>\n",
       "      <td>2007.000000</td>\n",
       "    </tr>\n",
       "    <tr>\n",
       "      <th>75%</th>\n",
       "      <td>NaN</td>\n",
       "      <td>NaN</td>\n",
       "      <td>NaN</td>\n",
       "      <td>1.000000</td>\n",
       "      <td>8.500000</td>\n",
       "      <td>7.500000</td>\n",
       "      <td>0.650000</td>\n",
       "      <td>0.950000</td>\n",
       "      <td>25.000000</td>\n",
       "      <td>21.700000</td>\n",
       "      <td>75.000000</td>\n",
       "      <td>NaN</td>\n",
       "      <td>NaN</td>\n",
       "      <td>NaN</td>\n",
       "      <td>NaN</td>\n",
       "      <td>23.888889</td>\n",
       "      <td>2012.000000</td>\n",
       "    </tr>\n",
       "    <tr>\n",
       "      <th>max</th>\n",
       "      <td>NaN</td>\n",
       "      <td>NaN</td>\n",
       "      <td>NaN</td>\n",
       "      <td>9.000000</td>\n",
       "      <td>15.100000</td>\n",
       "      <td>9.900000</td>\n",
       "      <td>9.000000</td>\n",
       "      <td>12.000000</td>\n",
       "      <td>74.000000</td>\n",
       "      <td>74.000000</td>\n",
       "      <td>92.300000</td>\n",
       "      <td>NaN</td>\n",
       "      <td>NaN</td>\n",
       "      <td>NaN</td>\n",
       "      <td>NaN</td>\n",
       "      <td>33.500000</td>\n",
       "      <td>2019.000000</td>\n",
       "    </tr>\n",
       "  </tbody>\n",
       "</table>\n",
       "</div>"
      ],
      "text/plain": [
       "       Site_Id Unit_Id Read_Date  Salinity (ppt)  Dissolved Oxygen (mg/L)  \\\n",
       "count     2370      32      2366     2241.000000              1520.000000   \n",
       "unique       6       2       801             NaN                      NaN   \n",
       "top        Bay   01csv  4/4/2017             NaN                      NaN   \n",
       "freq       794      28         6             NaN                      NaN   \n",
       "mean       NaN     NaN       NaN        0.717068                 6.646263   \n",
       "std        NaN     NaN       NaN        1.230819                 2.506608   \n",
       "min        NaN     NaN       NaN        0.000000                 0.000000   \n",
       "25%        NaN     NaN       NaN        0.000000                 4.800000   \n",
       "50%        NaN     NaN       NaN        0.000000                 6.500000   \n",
       "75%        NaN     NaN       NaN        1.000000                 8.500000   \n",
       "max        NaN     NaN       NaN        9.000000                15.100000   \n",
       "\n",
       "        pH (standard units)  Secchi Depth (m)  Water Depth (m)  \\\n",
       "count           2276.000000       2298.000000      2300.000000   \n",
       "unique                  NaN               NaN              NaN   \n",
       "top                     NaN               NaN              NaN   \n",
       "freq                    NaN               NaN              NaN   \n",
       "mean               7.168212          0.524898         0.762559   \n",
       "std                0.788485          0.473663         0.621140   \n",
       "min                0.300000          0.000000         0.010000   \n",
       "25%                6.500000          0.300000         0.400000   \n",
       "50%                7.000000          0.400000         0.650000   \n",
       "75%                7.500000          0.650000         0.950000   \n",
       "max                9.900000          9.000000        12.000000   \n",
       "\n",
       "        Water Temp (?C)  Air Temp-Celsius  Air Temp (?F) Time (24:00)  \\\n",
       "count       2250.000000         85.000000    2300.000000         2308   \n",
       "unique              NaN               NaN            NaN           99   \n",
       "top                 NaN               NaN            NaN         0:00   \n",
       "freq                NaN               NaN            NaN         1440   \n",
       "mean          18.062138         16.437647      62.051637          NaN   \n",
       "std            8.298246         11.754138      15.492236          NaN   \n",
       "min            0.000000          0.000000      10.500000          NaN   \n",
       "25%           11.000000          9.000000      49.000000          NaN   \n",
       "50%           19.000000         15.000000      63.000000          NaN   \n",
       "75%           25.000000         21.700000      75.000000          NaN   \n",
       "max           74.000000         74.000000      92.300000          NaN   \n",
       "\n",
       "          Field_Tech DateVerified      WhoVerified  AirTemp (C)         Year  \n",
       "count           2332          453              453  2371.000000  2371.000000  \n",
       "unique            14           44               12          NaN          NaN  \n",
       "top     Not Recorded   10/30/2019  Christine Folks          NaN          NaN  \n",
       "freq            1225           60              171          NaN          NaN  \n",
       "mean             NaN          NaN              NaN    15.663050  2006.049346  \n",
       "std              NaN          NaN              NaN    10.314720     9.002373  \n",
       "min              NaN          NaN              NaN   -17.777778  1899.000000  \n",
       "25%              NaN          NaN              NaN     8.888889  2001.000000  \n",
       "50%              NaN          NaN              NaN    16.666667  2007.000000  \n",
       "75%              NaN          NaN              NaN    23.888889  2012.000000  \n",
       "max              NaN          NaN              NaN    33.500000  2019.000000  "
      ]
     },
     "execution_count": 6,
     "metadata": {},
     "output_type": "execute_result"
    }
   ],
   "source": [
    "# Basic Descriptive Statistics\n",
    "df.describe(include='all')"
   ]
  },
  {
   "cell_type": "code",
   "execution_count": 15,
   "metadata": {},
   "outputs": [
    {
     "name": "stdout",
     "output_type": "stream",
     "text": [
      "\n",
      "Frequency distribution for Site_Id:\n",
      "Site_Id\n",
      "Bay    794\n",
      "D      440\n",
      "B      437\n",
      "A      434\n",
      "C      264\n",
      "d        1\n",
      "Name: count, dtype: int64\n",
      "\n",
      "Frequency distribution for Unit_Id:\n",
      "Unit_Id\n",
      "01csv    28\n",
      "01CSV     4\n",
      "Name: count, dtype: int64\n",
      "\n",
      "Frequency distribution for Read_Date:\n",
      "Read_Date\n",
      "4/4/2017     6\n",
      "11/6/2001    5\n",
      "8/17/2006    5\n",
      "2/9/2006     5\n",
      "3/9/2006     5\n",
      "            ..\n",
      "5/29/1995    1\n",
      "6/5/1995     1\n",
      "6/12/1995    1\n",
      "6/19/1995    1\n",
      "1/3/1994     1\n",
      "Name: count, Length: 801, dtype: int64\n",
      "\n",
      "Frequency distribution for Time (24:00):\n",
      "Time (24:00)\n",
      "0:00       1440\n",
      "14:24        52\n",
      "19:12        47\n",
      "4:48         46\n",
      "9:36         44\n",
      "           ... \n",
      "13:26         1\n",
      "19:40         1\n",
      "0:02          1\n",
      "11:35         1\n",
      "5/23/19       1\n",
      "Name: count, Length: 99, dtype: int64\n",
      "\n",
      "Frequency distribution for Field_Tech:\n",
      "Field_Tech\n",
      "Not Recorded                1225\n",
      "S. Poe                       358\n",
      "Sue Poe                      342\n",
      "Feldman                      172\n",
      "Susan Poe                     86\n",
      "J Phillips, Mary Feldman      37\n",
      "Strader, Pease, Feldman       35\n",
      "Pease, Strader                31\n",
      "John Phillips                 17\n",
      "Strader                       15\n",
      "Strader, S. Poe               11\n",
      "sue Poe                        1\n",
      "Sue POE                        1\n",
      "Sue poe                        1\n",
      "Name: count, dtype: int64\n",
      "\n",
      "Frequency distribution for DateVerified:\n",
      "DateVerified\n",
      "10/30/2019    60\n",
      "11/12/2019    49\n",
      "4/11/2017     40\n",
      "8/7/2017      30\n",
      "1/4/2016      26\n",
      "3/27/2014     24\n",
      "11/5/2019     21\n",
      "5/8/2015      16\n",
      "10/29/2019    15\n",
      "10/17/2017    15\n",
      "7/10/2014      8\n",
      "1/13/2015      8\n",
      "11/6/2019      8\n",
      "10/31/2019     8\n",
      "11/17/2017     8\n",
      "2/10/2015      8\n",
      "2/29/2016      8\n",
      "9/11/2014      7\n",
      "3/28/2016      6\n",
      "11/13/2019     5\n",
      "2/24/2015      4\n",
      "5/16/2014      4\n",
      "8/13/2014      4\n",
      "11/1/2019      4\n",
      "9/25/2014      4\n",
      "5/21/2014      4\n",
      "10/14/2014     4\n",
      "10/21/2014     4\n",
      "11/18/2014     4\n",
      "8/31/2016      4\n",
      "5/6/2016       4\n",
      "4/19/2016      4\n",
      "7/24/2014      4\n",
      "1/15/2016      4\n",
      "1/11/2016      4\n",
      "4/14/2014      4\n",
      "6/12/2015      4\n",
      "6/3/2015       4\n",
      "6/23/2014      3\n",
      "12/4/2014      3\n",
      "3/22/2016      2\n",
      "6/16/2014      1\n",
      "10/23/2019     1\n",
      "12/2/2014      1\n",
      "Name: count, dtype: int64\n",
      "\n",
      "Frequency distribution for WhoVerified:\n",
      "WhoVerified\n",
      "Christine Folks       171\n",
      "Kayla Braasch          62\n",
      "Carly Sibilia          53\n",
      "Rebecca Walawender     51\n",
      "Erin Bailey            40\n",
      "Karen Beatty           28\n",
      "Amy Keiler             23\n",
      "Karen Callaway         12\n",
      "K Beatty                5\n",
      "Trenton Miller          4\n",
      "K. Beatty               3\n",
      "amy keiler              1\n",
      "Name: count, dtype: int64\n"
     ]
    }
   ],
   "source": [
    "if df.select_dtypes(include=['object', 'bool']).any().any():\n",
    "    for col in df.select_dtypes(include=['object', 'bool']).columns:\n",
    "        print(f\"\\nFrequency distribution for {col}:\")\n",
    "        print(df[col].value_counts())"
   ]
  },
  {
   "cell_type": "code",
   "execution_count": 17,
   "metadata": {},
   "outputs": [
    {
     "data": {
      "image/png": "[encoded data removed]",
      "text/plain": [
       "<Figure size 5000x500 with 10 Axes>"
      ]
     },
     "metadata": {},
     "output_type": "display_data"
    }
   ],
   "source": [
    "num_cols = df.select_dtypes(include=[np.number]).columns\n",
    "if num_cols.any():\n",
    "    df[num_cols].plot(kind='box', subplots=True, layout=(1,len(num_cols)), figsize=(len(num_cols)*5, 5))\n",
    "    plt.show()"
   ]
  },
  {
   "cell_type": "code",
   "execution_count": 21,
   "metadata": {},
   "outputs": [
    {
     "name": "stdout",
     "output_type": "stream",
     "text": [
      "\n",
      "Shapiro-Wilk Normality Test Results:\n",
      "Salinity (ppt): Statistics=nan, p-value=1\n",
      "Dissolved Oxygen (mg/L): Statistics=nan, p-value=1\n",
      "pH (standard units): Statistics=nan, p-value=1\n",
      "Secchi Depth (m): Statistics=nan, p-value=1\n",
      "Water Depth (m): Statistics=nan, p-value=1\n",
      "Water Temp (?C): Statistics=nan, p-value=1\n",
      "Air Temp-Celsius: Statistics=nan, p-value=1\n",
      "Air Temp (?F): Statistics=nan, p-value=1\n",
      "AirTemp (C): Statistics=0.924, p-value=5.04e-33\n",
      "Year: Statistics=0.804, p-value=0\n"
     ]
    }
   ],
   "source": [
    "if num_cols.any():\n",
    "    print(\"\\nShapiro-Wilk Normality Test Results:\")\n",
    "    for col in num_cols:\n",
    "        stat, p = stats.shapiro(df[col])\n",
    "        print(f\"{col}: Statistics={stat:.3f}, p-value={p:.3g}\")"
   ]
  },
  {
   "cell_type": "markdown",
   "metadata": {},
   "source": [
    "# Tests"
   ]
  },
  {
   "cell_type": "code",
   "execution_count": 27,
   "metadata": {},
   "outputs": [],
   "source": [
    "independent = 'Salinity (ppt)'\n",
    "dependent = 'Dissolved Oxygen (mg/L)'\n",
    "group1 = df[df[independent] > 1][[dependent, independent]]\n",
    "group2 = df[df[independent] <= 1][[dependent, independent]]"
   ]
  },
  {
   "cell_type": "markdown",
   "metadata": {},
   "source": [
    "T-test: means of 2 groups, parametric"
   ]
  },
  {
   "cell_type": "code",
   "execution_count": 28,
   "metadata": {},
   "outputs": [
    {
     "name": "stdout",
     "output_type": "stream",
     "text": [
      "Independent t-test statistic: [        nan 83.22262113] P-value: [nan  0.]\n"
     ]
    }
   ],
   "source": [
    "t_stat, p_val = stats.ttest_ind(group1, group2)\n",
    "print(\"Independent t-test statistic:\", t_stat, \"P-value:\", p_val)\n",
    "\n",
    "#t_stat, p_val = stats.ttest_rel(before, after)\n",
    "#print(\"Paired t-test statistic:\", t_stat, \"P-value:\", p_val)"
   ]
  },
  {
   "cell_type": "markdown",
   "metadata": {},
   "source": [
    "ANOVA: means of 3+ independent groups, parametric"
   ]
  },
  {
   "cell_type": "code",
   "execution_count": null,
   "metadata": {},
   "outputs": [],
   "source": [
    "f_stat, p_val = stats.f_oneway(group1, group2, group3)\n",
    "print(\"ANOVA statistic:\", f_stat, \"P-value:\", p_val)"
   ]
  },
  {
   "cell_type": "markdown",
   "metadata": {},
   "source": [
    "Kruskal-Wallis Test: means of 3+ independent groups, non-parametric"
   ]
  },
  {
   "cell_type": "code",
   "execution_count": null,
   "metadata": {},
   "outputs": [],
   "source": [
    "stat, p = kruskal(group1, group2, group3)\n",
    "print(\"Kruskal-Wallis statistic:\", stat, \"P-value:\", p)"
   ]
  },
  {
   "cell_type": "markdown",
   "metadata": {},
   "source": [
    "rm_ANOVA: means of 3+ dependent groups, parametric"
   ]
  },
  {
   "cell_type": "code",
   "execution_count": null,
   "metadata": {},
   "outputs": [],
   "source": [
    "aovrm = AnovaRM(data, 'Response', 'Subject', within=['Condition'])\n",
    "fit = aovrm.fit()\n",
    "print(fit.summary())"
   ]
  },
  {
   "cell_type": "markdown",
   "metadata": {},
   "source": [
    "Friedman test: means of 3+ dependent groups, non-parametric"
   ]
  },
  {
   "cell_type": "code",
   "execution_count": null,
   "metadata": {},
   "outputs": [],
   "source": [
    "stat, p = stats.friedmanchisquare(group1, group2, group3)\n",
    "print(\"Friedman statistic:\", stat, \"P-value:\", p)"
   ]
  },
  {
   "cell_type": "markdown",
   "metadata": {},
   "source": [
    "Chi-Square Test: 2 categorical variables"
   ]
  },
  {
   "cell_type": "code",
   "execution_count": null,
   "metadata": {},
   "outputs": [],
   "source": [
    "table = [[10, 20, 30], [6, 9, 17], [8, 10, 5]]\n",
    "chi2, p, dof, expected = stats.chi2_contingency(table)\n",
    "print(\"Chi-square test\", \"Statistic:\", chi2, \"P-value:\", p)"
   ]
  },
  {
   "cell_type": "markdown",
   "metadata": {},
   "source": [
    "Mann-Whitney U Test: 2 independent, non-parametric samples from same distribution"
   ]
  },
  {
   "cell_type": "code",
   "execution_count": 31,
   "metadata": {},
   "outputs": [
    {
     "name": "stdout",
     "output_type": "stream",
     "text": [
      "Mann-Whitney U statistic: [    nan 846560.] P-value: [nan  0.]\n"
     ]
    }
   ],
   "source": [
    "stat, p = stats.mannwhitneyu(group1, group2)\n",
    "print(\"Mann-Whitney U statistic:\", stat, \"P-value:\", p)"
   ]
  },
  {
   "cell_type": "markdown",
   "metadata": {},
   "source": [
    "Wilcoxon Signed-Rank Test: 2 paired, non-parametric"
   ]
  },
  {
   "cell_type": "code",
   "execution_count": null,
   "metadata": {},
   "outputs": [],
   "source": [
    "stat, p = stats.wilcoxon(data1, data2)\n",
    "print(\"Wilcoxon statistic:\", stat, \"P-value:\", p)"
   ]
  },
  {
   "cell_type": "markdown",
   "metadata": {},
   "source": [
    "Fisher's Exact Test: 2*2 contingency table"
   ]
  },
  {
   "cell_type": "code",
   "execution_count": 32,
   "metadata": {},
   "outputs": [
    {
     "name": "stdout",
     "output_type": "stream",
     "text": [
      "Fisher's Exact Test Odds ratio: 20.0 P-value: 0.034965034965034975\n"
     ]
    }
   ],
   "source": [
    "oddsratio, p_value = stats.fisher_exact([[8, 2], [1, 5]])\n",
    "\n",
    "print(\"Fisher's Exact Test\", \"Odds ratio:\", oddsratio, \"P-value:\", p_value)"
   ]
  }
 ],
 "metadata": {
  "kernelspec": {
   "display_name": "Python 3",
   "language": "python",
   "name": "python3"
  },
  "language_info": {
   "codemirror_mode": {
    "name": "ipython",
    "version": 3
   },
   "file_extension": ".py",
   "mimetype": "text/x-python",
   "name": "python",
   "nbconvert_exporter": "python",
   "pygments_lexer": "ipython3",
   "version": "3.11.6"
  }
 },
 "nbformat": 4,
 "nbformat_minor": 2
}
